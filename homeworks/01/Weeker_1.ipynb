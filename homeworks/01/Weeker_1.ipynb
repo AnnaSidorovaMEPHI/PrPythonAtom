{
 "cells": [
  {
   "cell_type": "markdown",
   "metadata": {},
   "source": [
    "# Недельник 1\n",
    "\n",
    "Как было сказано на лекции, на текущей неделе вы получаете ежедневные задания. Система оценки следующая: в первый день(четверг) вы делаете первый pull-request в ветку homework_01. Потом каждый день делаете коммит, он будет автоматически привязывать к pull-request. Если задачка не сделана в течении 2-х дней она сгорает. (Можно четверг сделать в четверг и пятницу)"
   ]
  },
  {
   "cell_type": "markdown",
   "metadata": {},
   "source": [
    "# Четверг"
   ]
  },
  {
   "cell_type": "code",
   "execution_count": 7,
   "metadata": {},
   "outputs": [],
   "source": [
    "#TODO Сделайте калькулятор произвольных выражений, операции следующие: +, -, /, ^, *. скобок нет\n",
    "def calculate(input_str):\n",
    "    return eval(input_str)"
   ]
  },
  {
   "cell_type": "code",
   "execution_count": 8,
   "metadata": {},
   "outputs": [],
   "source": [
    "assert calculate(\"2 + 2 * 2\") == 6\n",
    "assert calculate(\"345 / 5 * 21\") == 1449.\n",
    "assert calculate(\"3^3 - 10 + 41 * 3\") == 119\n",
    "assert calculate(\"42 / 7 * 32\") == 192.0\n",
    "assert calculate(\"32-2*5\") == 22\n",
    "assert calculate(\"27/3/9\") == 1\n",
    "#TODO Дополнить еще 2-мя своими тестами"
   ]
  },
  {
   "cell_type": "markdown",
   "metadata": {},
   "source": [
    "# Пятница"
   ]
  },
  {
   "cell_type": "code",
   "execution_count": 26,
   "metadata": {},
   "outputs": [],
   "source": [
    "#TODO метод разворачивающий строку HE2LO -> HELLO (число означает сколько раз встречается буква)\n",
    "def transform_string(inp_string): \n",
    "    k=0 \n",
    "    f=0 \n",
    "    out_string=\"\" \n",
    "    for i in inp_string: \n",
    "        if i.isdigit(): \n",
    "            k=k*10+int(i) \n",
    "            f=1 \n",
    "        else: \n",
    "            if f==1: \n",
    "                out_string+=k*i \n",
    "                f=0 \n",
    "                k=0 \n",
    "                continue \n",
    "            else: \n",
    "                out_string+=(k+1)*i \n",
    "                k=0 \n",
    "\n",
    "    return out_string"
   ]
  },
  {
   "cell_type": "code",
   "execution_count": 25,
   "metadata": {},
   "outputs": [],
   "source": [
    "assert transform_string(\"HE2LO\") == \"HELLO\"\n",
    "assert transform_string(\"HI\") == \"HI\"\n",
    "assert transform_string(\"пр12ивет\") == \"приииииииииииивет\"\n",
    "assert transform_string(\"2л3у78н65тик\") == 'ллуууннннннннннннннннннннннннннннннннннннннннннннннннннннннннннннннннннннннннннннннтттттттттттттттттттттттттттттттттттттттттттттттттттттттттттттттттик'\n",
    "assert transform_string(\"10POWER\") == \"PPPPPPPPPPOWER\"\n",
    "assert transform_string(\"PYTH3ON\") == \"PYTHOOON\"\n",
    "#TODO Дописать 2 своих теста"
   ]
  },
  {
   "cell_type": "markdown",
   "metadata": {},
   "source": [
    "# Суббота"
   ]
  },
  {
   "cell_type": "code",
   "execution_count": 17,
   "metadata": {},
   "outputs": [],
   "source": [
    "#TODO метод выводящий статистику по строке, кол-во гласных, согласных, цифр, строчных букв, прописных букв\n",
    "def string_stat(inp_string):\n",
    "    a=[0,0,0,0,0] \n",
    "    for i in inp_string: \n",
    "        if i.isupper(): \n",
    "            a[4]+=1 \n",
    "        elif i.islower(): \n",
    "            a[3]+=1 \n",
    "        if i.isdigit(): \n",
    "            a[2]+=1 \n",
    "        elif i.lower() in [\"у\",\"е\",\"ы\",\"а\",\"о\",\"э\",\"я\",\"и\",\"ю\",\"ё\"]: \n",
    "            a[0]+=1 \n",
    "        else: a[1]+=1 \n",
    "    return(tuple(a))\n"
   ]
  },
  {
   "cell_type": "code",
   "execution_count": 27,
   "metadata": {},
   "outputs": [],
   "source": [
    "assert string_stat(\"Тевирп\") == (2, 4, 0, 5, 1)\n",
    "assert string_stat(\"КоРоВа4\") == (3, 3, 1, 3, 3)\n",
    "assert string_stat(\"PyThOn3\") == (0, 0, 1, 3, 3)\n",
    "assert string_stat(\"АТОМ\") == (2, 2, 0, 0, 4)\n",
    "#TODO 2 своих теста"
   ]
  },
  {
   "cell_type": "markdown",
   "metadata": {},
   "source": [
    "# Воскресенье - ВЫХОДНОЙ"
   ]
  },
  {
   "cell_type": "markdown",
   "metadata": {},
   "source": [
    "# Понедельник"
   ]
  },
  {
   "cell_type": "code",
   "execution_count": 30,
   "metadata": {},
   "outputs": [],
   "source": [
    "#TODO инвертируйте словарь из k - [v_1, v_2] в v_1 [k_1]\n",
    "def dict_inverter(input_dict): \n",
    "    out_dict = {} \n",
    "    for k, v in input_dict.items(): \n",
    "        for i in v: \n",
    "            if i in out_dict: \n",
    "                if type(i)==list: \n",
    "                    out_dict[i]=out_dict.get(i) + [k] \n",
    "                else: \n",
    "                    out_dict[i]=[out_dict.get(i)] + [k] \n",
    "            else: \n",
    "                out_dict[i]=k \n",
    "    return out_dict "
   ]
  },
  {
   "cell_type": "code",
   "execution_count": 31,
   "metadata": {},
   "outputs": [],
   "source": [
    "assert dict_inverter({\"mango\" : [\"eatable\"], \"pillow\": [\"sleepable\"]}) == {\"eatable\": \"mango\", \"sleepable\": \"pillow\"}\n",
    "assert dict_inverter({\"mango\" : [\"eatable\", \"readable\"]}) == {\"readable\":\"mango\", \"eatable\":\"mango\"}\n",
    "assert dict_inverter({\"mango\" : [\"eatable\"], \"banana\": [\"eatable\"]}) == {\"eatable\": [\"mango\", \"banana\"]}\n",
    "assert dict_inverter({\"mango\" : [\"eatable\", \"delicious\", \"sweet\"], \"banana\": [\"eatable\"]}) == {\"eatable\": [\"mango\", \"banana\"], \"delicious\":\"mango\", \"sweet\":\"mango\"}\n",
    "#TODO Один свой тест"
   ]
  },
  {
   "cell_type": "markdown",
   "metadata": {},
   "source": [
    "# Вторник"
   ]
  },
  {
   "cell_type": "code",
   "execution_count": 29,
   "metadata": {},
   "outputs": [],
   "source": [
    "#TODO вывести уникальные элементы массива\n",
    "def uniq_array(input_arr):\n",
    "    return []"
   ]
  },
  {
   "cell_type": "code",
   "execution_count": null,
   "metadata": {},
   "outputs": [],
   "source": [
    "assert uniq_array([0]) == [0]\n",
    "assert uniq_array([0, 1, 2, 3]) == [0, 1, 2, 3]\n",
    "assert uniq_array([\"f\", \"t\", \"f\"]) == ['t', 'f']\n",
    "assert uniq_array(['rt', 'rt']) == ['rt']"
   ]
  }
 ],
 "metadata": {
  "kernelspec": {
   "display_name": "Python 3",
   "language": "python",
   "name": "python3"
  },
  "language_info": {
   "codemirror_mode": {
    "name": "ipython",
    "version": 3
   },
   "file_extension": ".py",
   "mimetype": "text/x-python",
   "name": "python",
   "nbconvert_exporter": "python",
   "pygments_lexer": "ipython3",
   "version": "3.6.5"
  }
 },
 "nbformat": 4,
 "nbformat_minor": 2
}
